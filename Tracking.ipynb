{
 "cells": [
  {
   "cell_type": "code",
   "execution_count": 141,
   "id": "2d7ad851-f2bf-4469-90f0-bdbe70130dda",
   "metadata": {},
   "outputs": [],
   "source": [
    "import FinanceDataReader as fdr\n",
    "import yfinance as yf\n",
    "import pandas as pd\n",
    "import numpy as np\n",
    "import datetime\n",
    "import pickle\n",
    "import time"
   ]
  },
  {
   "cell_type": "code",
   "execution_count": 142,
   "id": "6515513c-f63f-4519-a38e-7e94661a3fd5",
   "metadata": {},
   "outputs": [],
   "source": [
    "dt_list1 = ['2023-01-02','2023-01-03','2023-01-04','2023-01-05','2023-01-06','2023-01-09','2023-01-10','2023-01-11','2023-01-12','2023-01-13','2023-01-16',\\\n",
    "            '2023-01-17','2023-01-18','2023-01-19','2023-01-20','2023-01-25','2023-01-26','2023-01-27','2023-01-30','2023-01-31']\n",
    "dt_list2 = ['2023-02-01','2023-02-02','2023-02-03','2023-02-06','2023-02-07','2023-02-08']\n",
    "dt_list = dt_list1 + dt_list2 "
   ]
  },
  {
   "cell_type": "code",
   "execution_count": 143,
   "id": "37936db3-f1e9-44f0-a3bc-8bcc72ed34bd",
   "metadata": {},
   "outputs": [],
   "source": [
    "df_all = pd.DataFrame()\n",
    "\n",
    "for dt in dt_list:\n",
    "    kq_yymmdd = pd.read_pickle('kq_selection_' + str(dt) + '.pkl')['name']\n",
    "    for code in list(kq_yymmdd.index):\n",
    "        start_dt = dt\n",
    "        end_dt = datetime.datetime.strptime(dt, '%Y-%m-%d') + BDay(10)\n",
    "        df = fdr.DataReader(code, start=start_dt, end=end_dt) \n",
    "        df = df.head(6)\n",
    "        df['code'] = code\n",
    "        df['name'] = kq_yymmdd.loc[code]\n",
    "        df['select_dt'] = dt \n",
    "        df = df.reset_index().set_index('select_dt')[['Date','code','name','code','Open','High','Low','Close','Volume']]\n",
    "        df_all = pd.concat([df_all, df], axis=0)"
   ]
  },
  {
   "cell_type": "code",
   "execution_count": 82,
   "id": "e3e9200e-42d0-4c61-887d-26d7717f71f9",
   "metadata": {},
   "outputs": [],
   "source": [
    "df_all.to_excel('backtesting.xlsx')"
   ]
  },
  {
   "cell_type": "code",
   "execution_count": 144,
   "id": "93904301-1267-4665-9e5f-7d8b9d9f1dfb",
   "metadata": {},
   "outputs": [],
   "source": [
    "c1 = df_all.groupby(['select_dt','name'])[['name','Close']].first(1)\n",
    "c2 = df_all.groupby(['select_dt','name'])[['Open']].nth(1)\n",
    "c3 = df_all.groupby(['select_dt','name'])[['High']].nth([1,2,3,4,5]).groupby(['select_dt','name']).max()\n",
    "c4 = df_all.groupby(['select_dt','name'])[['Low']].nth([1,2,3,4,5]).groupby(['select_dt','name']).min()\n",
    "c_all = pd.concat([c1, c2, c3, c4], axis=1)\n",
    "c_all['max_return'] = c_all['High']/c_all['Open']\n",
    "c_all['min_return'] = c_all['Low']/c_all['Open']"
   ]
  },
  {
   "cell_type": "code",
   "execution_count": 131,
   "id": "24a07c6c-e606-4162-b8de-cb7757cfa7a8",
   "metadata": {},
   "outputs": [],
   "source": [
    "c_all.to_excel('hyungbong.xlsx')"
   ]
  },
  {
   "cell_type": "code",
   "execution_count": 139,
   "id": "bc8dbbd8-1373-47ac-bfa5-f7478b4a24cf",
   "metadata": {},
   "outputs": [],
   "source": [
    "# b1 =  df_all.groupby(['select_dt','name'])[['name','Low','High']].first(1).apply(lambda x: x['High'] - x['Low'], axis=1)\n",
    "# b2 = df_all.groupby(['select_dt','name'])[['Open','High']].nth(1)\n",
    "# b3 = df_all.groupby(['select_dt','name'])['Open'].nth(2)"
   ]
  },
  {
   "cell_type": "code",
   "execution_count": 170,
   "id": "d8bc8ab6-732e-4ba6-97c0-4419abbfb175",
   "metadata": {},
   "outputs": [],
   "source": [
    "price_range = df_all.groupby(['select_dt','name']).first()[['Low','High']].apply(lambda x: (x['High'] -x['Low']), axis=1)"
   ]
  },
  {
   "cell_type": "code",
   "execution_count": 173,
   "id": "4fdde635-530b-4cf3-8773-74db6e3b6d81",
   "metadata": {},
   "outputs": [],
   "source": [
    "open_price = df_all.groupby(['select_dt','name']).nth(1)['Open'] \n",
    "min_price"
   ]
  },
  {
   "cell_type": "code",
   "execution_count": 175,
   "id": "874d5ded-37f6-4368-9676-cf7ad822d8b7",
   "metadata": {},
   "outputs": [
    {
     "data": {
      "text/html": [
       "<div>\n",
       "<style scoped>\n",
       "    .dataframe tbody tr th:only-of-type {\n",
       "        vertical-align: middle;\n",
       "    }\n",
       "\n",
       "    .dataframe tbody tr th {\n",
       "        vertical-align: top;\n",
       "    }\n",
       "\n",
       "    .dataframe thead th {\n",
       "        text-align: right;\n",
       "    }\n",
       "</style>\n",
       "<table border=\"1\" class=\"dataframe\">\n",
       "  <thead>\n",
       "    <tr style=\"text-align: right;\">\n",
       "      <th></th>\n",
       "      <th></th>\n",
       "      <th>Close</th>\n",
       "      <th>Open</th>\n",
       "      <th>High</th>\n",
       "      <th>Low</th>\n",
       "      <th>max_return</th>\n",
       "      <th>min_return</th>\n",
       "    </tr>\n",
       "    <tr>\n",
       "      <th>select_dt</th>\n",
       "      <th>name</th>\n",
       "      <th></th>\n",
       "      <th></th>\n",
       "      <th></th>\n",
       "      <th></th>\n",
       "      <th></th>\n",
       "      <th></th>\n",
       "    </tr>\n",
       "  </thead>\n",
       "  <tbody>\n",
       "    <tr>\n",
       "      <th rowspan=\"3\" valign=\"top\">2023-01-02</th>\n",
       "      <th>CBI</th>\n",
       "      <td>426</td>\n",
       "      <td>431</td>\n",
       "      <td>436</td>\n",
       "      <td>376</td>\n",
       "      <td>1.011601</td>\n",
       "      <td>0.872390</td>\n",
       "    </tr>\n",
       "    <tr>\n",
       "      <th>코스나인</th>\n",
       "      <td>630</td>\n",
       "      <td>627</td>\n",
       "      <td>638</td>\n",
       "      <td>590</td>\n",
       "      <td>1.017544</td>\n",
       "      <td>0.940989</td>\n",
       "    </tr>\n",
       "    <tr>\n",
       "      <th>크린앤사이언스</th>\n",
       "      <td>9770</td>\n",
       "      <td>9560</td>\n",
       "      <td>11950</td>\n",
       "      <td>9560</td>\n",
       "      <td>1.250000</td>\n",
       "      <td>1.000000</td>\n",
       "    </tr>\n",
       "    <tr>\n",
       "      <th rowspan=\"2\" valign=\"top\">2023-01-03</th>\n",
       "      <th>MDS테크</th>\n",
       "      <td>1883</td>\n",
       "      <td>1825</td>\n",
       "      <td>2990</td>\n",
       "      <td>1735</td>\n",
       "      <td>1.638356</td>\n",
       "      <td>0.950685</td>\n",
       "    </tr>\n",
       "    <tr>\n",
       "      <th>나무가</th>\n",
       "      <td>15700</td>\n",
       "      <td>15550</td>\n",
       "      <td>16400</td>\n",
       "      <td>14600</td>\n",
       "      <td>1.054662</td>\n",
       "      <td>0.938907</td>\n",
       "    </tr>\n",
       "    <tr>\n",
       "      <th>...</th>\n",
       "      <th>...</th>\n",
       "      <td>...</td>\n",
       "      <td>...</td>\n",
       "      <td>...</td>\n",
       "      <td>...</td>\n",
       "      <td>...</td>\n",
       "      <td>...</td>\n",
       "    </tr>\n",
       "    <tr>\n",
       "      <th>2023-02-06</th>\n",
       "      <th>엠플러스</th>\n",
       "      <td>10360</td>\n",
       "      <td>10420</td>\n",
       "      <td>12140</td>\n",
       "      <td>10400</td>\n",
       "      <td>1.165067</td>\n",
       "      <td>0.998081</td>\n",
       "    </tr>\n",
       "    <tr>\n",
       "      <th rowspan=\"2\" valign=\"top\">2023-02-07</th>\n",
       "      <th>디앤씨미디어</th>\n",
       "      <td>24350</td>\n",
       "      <td>24350</td>\n",
       "      <td>24950</td>\n",
       "      <td>22300</td>\n",
       "      <td>1.024641</td>\n",
       "      <td>0.915811</td>\n",
       "    </tr>\n",
       "    <tr>\n",
       "      <th>오리콤</th>\n",
       "      <td>14170</td>\n",
       "      <td>14250</td>\n",
       "      <td>14840</td>\n",
       "      <td>13000</td>\n",
       "      <td>1.041404</td>\n",
       "      <td>0.912281</td>\n",
       "    </tr>\n",
       "    <tr>\n",
       "      <th rowspan=\"2\" valign=\"top\">2023-02-08</th>\n",
       "      <th>코맥스</th>\n",
       "      <td>3815</td>\n",
       "      <td>3850</td>\n",
       "      <td>5370</td>\n",
       "      <td>3800</td>\n",
       "      <td>1.394805</td>\n",
       "      <td>0.987013</td>\n",
       "    </tr>\n",
       "    <tr>\n",
       "      <th>티라유텍</th>\n",
       "      <td>10190</td>\n",
       "      <td>10110</td>\n",
       "      <td>10240</td>\n",
       "      <td>9730</td>\n",
       "      <td>1.012859</td>\n",
       "      <td>0.962413</td>\n",
       "    </tr>\n",
       "  </tbody>\n",
       "</table>\n",
       "<p>118 rows × 6 columns</p>\n",
       "</div>"
      ],
      "text/plain": [
       "                    Close   Open   High    Low  max_return  min_return\n",
       "select_dt  name                                                       \n",
       "2023-01-02 CBI        426    431    436    376    1.011601    0.872390\n",
       "           코스나인       630    627    638    590    1.017544    0.940989\n",
       "           크린앤사이언스   9770   9560  11950   9560    1.250000    1.000000\n",
       "2023-01-03 MDS테크     1883   1825   2990   1735    1.638356    0.950685\n",
       "           나무가      15700  15550  16400  14600    1.054662    0.938907\n",
       "...                   ...    ...    ...    ...         ...         ...\n",
       "2023-02-06 엠플러스     10360  10420  12140  10400    1.165067    0.998081\n",
       "2023-02-07 디앤씨미디어   24350  24350  24950  22300    1.024641    0.915811\n",
       "           오리콤      14170  14250  14840  13000    1.041404    0.912281\n",
       "2023-02-08 코맥스       3815   3850   5370   3800    1.394805    0.987013\n",
       "           티라유텍     10190  10110  10240   9730    1.012859    0.962413\n",
       "\n",
       "[118 rows x 6 columns]"
      ]
     },
     "execution_count": 175,
     "metadata": {},
     "output_type": "execute_result"
    }
   ],
   "source": []
  },
  {
   "cell_type": "code",
   "execution_count": 177,
   "id": "2ab96493-cce5-448d-a8d3-4e3b5b107137",
   "metadata": {},
   "outputs": [
    {
     "data": {
      "text/plain": [
       "count    117.000000\n",
       "mean       0.959452\n",
       "std        0.032561\n",
       "min        0.847744\n",
       "25%        0.945299\n",
       "50%        0.965997\n",
       "75%        0.983425\n",
       "max        1.000000\n",
       "Name: min_return, dtype: float64"
      ]
     },
     "execution_count": 177,
     "metadata": {},
     "output_type": "execute_result"
    }
   ],
   "source": [
    "c_all[c_all['min_return']>0]['min_return'].describe()"
   ]
  },
  {
   "cell_type": "code",
   "execution_count": 178,
   "id": "4b395706-d639-4e34-aa14-5064eb82a349",
   "metadata": {},
   "outputs": [
    {
     "data": {
      "text/plain": [
       "count    118.000000\n",
       "mean       1.103320\n",
       "std        0.128316\n",
       "min        1.000000\n",
       "25%        1.024501\n",
       "50%        1.051128\n",
       "75%        1.134226\n",
       "max        1.664753\n",
       "Name: max_return, dtype: float64"
      ]
     },
     "execution_count": 178,
     "metadata": {},
     "output_type": "execute_result"
    }
   ],
   "source": [
    "c_all[c_all['max_return']>0]['max_return'].describe()"
   ]
  },
  {
   "cell_type": "code",
   "execution_count": null,
   "id": "cbdb0a42-a244-4ff1-9039-ffac9d237681",
   "metadata": {},
   "outputs": [],
   "source": []
  }
 ],
 "metadata": {
  "kernelspec": {
   "display_name": "Python 3 (ipykernel)",
   "language": "python",
   "name": "python3"
  },
  "language_info": {
   "codemirror_mode": {
    "name": "ipython",
    "version": 3
   },
   "file_extension": ".py",
   "mimetype": "text/x-python",
   "name": "python",
   "nbconvert_exporter": "python",
   "pygments_lexer": "ipython3",
   "version": "3.9.12"
  }
 },
 "nbformat": 4,
 "nbformat_minor": 5
}
