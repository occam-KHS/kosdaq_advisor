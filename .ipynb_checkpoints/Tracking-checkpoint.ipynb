{
 "cells": [
  {
   "cell_type": "code",
   "execution_count": 1,
   "id": "2d7ad851-f2bf-4469-90f0-bdbe70130dda",
   "metadata": {},
   "outputs": [],
   "source": [
    "import FinanceDataReader as fdr\n",
    "import yfinance as yf\n",
    "import pandas as pd\n",
    "import numpy as np\n",
    "import datetime\n",
    "import pickle\n",
    "import time"
   ]
  },
  {
   "cell_type": "code",
   "execution_count": 4,
   "id": "425c2135-e3d5-4def-84ab-b627e1edcca6",
   "metadata": {},
   "outputs": [],
   "source": [
    "kq_20230106 = pd.read_pickle('kq_selection_2023-01-06.pkl')['name']"
   ]
  },
  {
   "cell_type": "code",
   "execution_count": 80,
   "id": "6515513c-f63f-4519-a38e-7e94661a3fd5",
   "metadata": {},
   "outputs": [],
   "source": [
    "dt_list1 = ['2023-01-02','2023-01-03','2023-01-04','2023-01-05','2023-01-06','2023-01-09','2023-01-10','2023-01-11','2023-01-12','2023-01-13','2023-01-16',\\\n",
    "            '2023-01-17','2023-01-18','2023-01-19','2023-01-20','2023-01-25','2023-01-26','2023-01-27','2023-01-30','2023-01-31']\n",
    "dt_list2 = ['2023-02-01','2023-02-02','2023-02-03','2023-02-06','2023-02-07','2023-02-08']\n",
    "dt_list = dt_list1 + dt_list2 "
   ]
  },
  {
   "cell_type": "code",
   "execution_count": 81,
   "id": "37936db3-f1e9-44f0-a3bc-8bcc72ed34bd",
   "metadata": {},
   "outputs": [],
   "source": [
    "df_all = pd.DataFrame()\n",
    "\n",
    "for dt in dt_list:\n",
    "    kq_yymmdd = pd.read_pickle('kq_selection_' + str(dt) + '.pkl')['name']\n",
    "    for code in list(kq_yymmdd.index):\n",
    "        start_dt = dt\n",
    "        end_dt = datetime.datetime.strptime(dt, '%Y-%m-%d') + BDay(10)\n",
    "        df = fdr.DataReader(code, start=start_dt, end=end_dt) \n",
    "        df = df.head(6)\n",
    "        df['code'] = code\n",
    "        df['name'] = kq_yymmdd.loc[code]\n",
    "        df['select_dt'] = dt \n",
    "        df = df.reset_index().set_index('select_dt')[['Date','code','name','code','Open','High','Low','Close','Volume']]\n",
    "        df_all = pd.concat([df_all, df], axis=0)"
   ]
  },
  {
   "cell_type": "code",
   "execution_count": 82,
   "id": "e3e9200e-42d0-4c61-887d-26d7717f71f9",
   "metadata": {},
   "outputs": [],
   "source": [
    "df_all.to_excel('backtesting.xlsx')"
   ]
  },
  {
   "cell_type": "code",
   "execution_count": 127,
   "id": "93904301-1267-4665-9e5f-7d8b9d9f1dfb",
   "metadata": {},
   "outputs": [],
   "source": [
    "c1 = df_all.groupby(['select_dt','name'])[['name','Close']].first(1)\n",
    "c2 = df_all.groupby(['select_dt','name'])[['Open']].nth(1)\n",
    "c3 = df_all.groupby(['select_dt','name'])[['High']].nth([1,2,3,4,5]).groupby(['select_dt','name']).max()\n",
    "c4 = df_all.groupby(['select_dt','name'])[['Low']].nth([1,2,3,4,5]).groupby(['select_dt','name']).min()\n",
    "c_all = pd.concat([c1, c2, c3, c4], axis=1)\n",
    "c_all['max_return'] = c_all['High']/c_all['Open']\n",
    "c_all['min_return'] = c_all['Low']/c_all['Open']"
   ]
  },
  {
   "cell_type": "code",
   "execution_count": 131,
   "id": "24a07c6c-e606-4162-b8de-cb7757cfa7a8",
   "metadata": {},
   "outputs": [],
   "source": [
    "c_all.to_excel('hyungbong.xlsx')"
   ]
  },
  {
   "cell_type": "code",
   "execution_count": 139,
   "id": "bc8dbbd8-1373-47ac-bfa5-f7478b4a24cf",
   "metadata": {},
   "outputs": [],
   "source": [
    "# b1 =  df_all.groupby(['select_dt','name'])[['name','Low','High']].first(1).apply(lambda x: x['High'] - x['Low'], axis=1)\n",
    "# b2 = df_all.groupby(['select_dt','name'])[['Open','High']].nth(1)\n",
    "# b3 = df_all.groupby(['select_dt','name'])['Open'].nth(2)"
   ]
  },
  {
   "cell_type": "code",
   "execution_count": 140,
   "id": "d8bc8ab6-732e-4ba6-97c0-4419abbfb175",
   "metadata": {},
   "outputs": [
    {
     "data": {
      "text/plain": [
       "select_dt   name    \n",
       "2023-01-02  CBI           415\n",
       "            코스나인          630\n",
       "            크린앤사이언스     10050\n",
       "2023-01-03  MDS테크        1860\n",
       "            나무가         16050\n",
       "                        ...  \n",
       "2023-02-06  신라에스지        9560\n",
       "            에스씨엠생명과학    10200\n",
       "            엠플러스        11240\n",
       "2023-02-07  디앤씨미디어      24200\n",
       "            오리콤         14420\n",
       "Name: Open, Length: 116, dtype: int64"
      ]
     },
     "execution_count": 140,
     "metadata": {},
     "output_type": "execute_result"
    }
   ],
   "source": [
    "b3"
   ]
  },
  {
   "cell_type": "code",
   "execution_count": null,
   "id": "4fdde635-530b-4cf3-8773-74db6e3b6d81",
   "metadata": {},
   "outputs": [],
   "source": []
  }
 ],
 "metadata": {
  "kernelspec": {
   "display_name": "Python 3 (ipykernel)",
   "language": "python",
   "name": "python3"
  },
  "language_info": {
   "codemirror_mode": {
    "name": "ipython",
    "version": 3
   },
   "file_extension": ".py",
   "mimetype": "text/x-python",
   "name": "python",
   "nbconvert_exporter": "python",
   "pygments_lexer": "ipython3",
   "version": "3.9.12"
  }
 },
 "nbformat": 4,
 "nbformat_minor": 5
}
